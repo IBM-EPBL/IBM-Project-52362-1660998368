{
  "nbformat": 4,
  "nbformat_minor": 0,
  "metadata": {
    "colab": {
      "provenance": [],
      "collapsed_sections": []
    },
    "kernelspec": {
      "name": "python3",
      "display_name": "Python 3"
    },
    "language_info": {
      "name": "python"
    }
  },
  "cells": [
    {
      "cell_type": "markdown",
      "source": [
        "# Basic Python"
      ],
      "metadata": {
        "id": "McSxJAwcOdZ1"
      }
    },
    {
      "cell_type": "markdown",
      "source": [
        "## 1. Split this string"
      ],
      "metadata": {
        "id": "CU48hgo4Owz5"
      }
    },
    {
      "cell_type": "code",
      "source": [
        "s = \"Hi there Sam!\""
      ],
      "metadata": {
        "id": "s07c7JK7Oqt-"
      },
      "execution_count": null,
      "outputs": []
    },
    {
      "cell_type": "code",
      "source": [
        "s = \"Hi there Sam!\"\n",
        "a = s.split()\n",
        "print(a)\n"
      ],
      "metadata": {
        "id": "6mGVa3SQYLkb",
        "outputId": "59132f2f-019f-4e7b-d73c-49288b8f25f1",
        "colab": {
          "base_uri": "https://localhost:8080/"
        }
      },
      "execution_count": 1,
      "outputs": [
        {
          "output_type": "stream",
          "name": "stdout",
          "text": [
            "['Hi', 'there', 'Sam!']\n"
          ]
        }
      ]
    },
    {
      "cell_type": "markdown",
      "source": [
        "## 2. Use .format() to print the following string. \n",
        "\n",
        "### Output should be: The diameter of Earth is 12742 kilometers."
      ],
      "metadata": {
        "id": "GH1QBn8HP375"
      }
    },
    {
      "cell_type": "code",
      "source": [
        "planet = \"Earth\"\n",
        "diameter = 12742"
      ],
      "metadata": {
        "id": "_ZHoml3kPqic"
      },
      "execution_count": null,
      "outputs": []
    },
    {
      "cell_type": "code",
      "source": [
        "planet = \"Earth\"\n",
        "diameter = 12742\n",
        "print( 'The diameter of {} is {} kilometers.' .format(planet,diameter))"
      ],
      "metadata": {
        "id": "HyRyJv6CYPb4",
        "outputId": "3684652d-8d3a-4525-82a6-023347fb5292",
        "colab": {
          "base_uri": "https://localhost:8080/"
        }
      },
      "execution_count": 2,
      "outputs": [
        {
          "output_type": "stream",
          "name": "stdout",
          "text": [
            "The diameter of Earth is 12742 kilometers.\n"
          ]
        }
      ]
    },
    {
      "cell_type": "markdown",
      "source": [
        "## 3. In this nest dictionary grab the word \"hello\""
      ],
      "metadata": {
        "id": "KE74ZEwkRExZ"
      }
    },
    {
      "cell_type": "code",
      "source": [
        "d = {'k1':[1,2,3,{'tricky':['oh','man','inception',{'target':[1,2,3,'hello']}]}]}"
      ],
      "metadata": {
        "id": "fcVwbCc1QrQI"
      },
      "execution_count": null,
      "outputs": []
    },
    {
      "cell_type": "code",
      "source": [
        "\n",
        "d = {'k1':[1,2,3,{'tricky':['oh','man','inception',{'target':[1,2,3,'hello']}]}]}\n",
        "print(d['k1'][3]['tricky'][3]['target'][3])\n"
      ],
      "metadata": {
        "id": "MvbkMZpXYRaw",
        "outputId": "739050cd-439d-476e-8750-cecc7f132f7d",
        "colab": {
          "base_uri": "https://localhost:8080/"
        }
      },
      "execution_count": 3,
      "outputs": [
        {
          "output_type": "stream",
          "name": "stdout",
          "text": [
            "hello\n"
          ]
        }
      ]
    },
    {
      "cell_type": "markdown",
      "source": [
        "# Numpy"
      ],
      "metadata": {
        "id": "bw0vVp-9ddjv"
      }
    },
    {
      "cell_type": "code",
      "source": [
        "import numpy as np"
      ],
      "metadata": {
        "id": "LLiE_TYrhA1O"
      },
      "execution_count": null,
      "outputs": []
    },
    {
      "cell_type": "markdown",
      "source": [
        "## 4.1 Create an array of 10 zeros? \n",
        "## 4.2 Create an array of 10 fives?"
      ],
      "metadata": {
        "id": "wOg8hinbgx30"
      }
    },
    {
      "cell_type": "code",
      "source": [
        "import numpy as np\n",
        "array=np.zeros(10)\n",
        "print(\"An array of 10 zeros:\")\n",
        "print(array)"
      ],
      "metadata": {
        "id": "NHrirmgCYXvU",
        "outputId": "c2fbaeb9-656f-484e-9895-1ad1050e83c0",
        "colab": {
          "base_uri": "https://localhost:8080/"
        }
      },
      "execution_count": 4,
      "outputs": [
        {
          "output_type": "stream",
          "name": "stdout",
          "text": [
            "An array of 10 zeros:\n",
            "[0. 0. 0. 0. 0. 0. 0. 0. 0. 0.]\n"
          ]
        }
      ]
    },
    {
      "cell_type": "code",
      "source": [
        "array=np.ones(10)*5\n",
        "print(\"An array of 10 fives:\")\n",
        "print(array)"
      ],
      "metadata": {
        "id": "e4005lsTYXxx",
        "outputId": "944e047e-849e-4c71-9b90-6edf9e4ccf9d",
        "colab": {
          "base_uri": "https://localhost:8080/"
        }
      },
      "execution_count": 5,
      "outputs": [
        {
          "output_type": "stream",
          "name": "stdout",
          "text": [
            "An array of 10 fives:\n",
            "[5. 5. 5. 5. 5. 5. 5. 5. 5. 5.]\n"
          ]
        }
      ]
    },
    {
      "cell_type": "markdown",
      "source": [
        "## 5. Create an array of all the even integers from 20 to 35"
      ],
      "metadata": {
        "id": "gZHHDUBvrMX4"
      }
    },
    {
      "cell_type": "code",
      "source": [
        "\n",
        "x = np.arange(20,35)\n",
        "y = (x%2 == 0)\n",
        "z = x[y]\n",
        "print(z)"
      ],
      "metadata": {
        "id": "oAI2tbU2Yag-",
        "outputId": "f684340a-db18-4034-8838-5ae2901622ec",
        "colab": {
          "base_uri": "https://localhost:8080/"
        }
      },
      "execution_count": 6,
      "outputs": [
        {
          "output_type": "stream",
          "name": "stdout",
          "text": [
            "[20 22 24 26 28 30 32 34]\n"
          ]
        }
      ]
    },
    {
      "cell_type": "markdown",
      "source": [
        "## 6. Create a 3x3 matrix with values ranging from 0 to 8"
      ],
      "metadata": {
        "id": "NaOM308NsRpZ"
      }
    },
    {
      "cell_type": "code",
      "source": [
        "\n",
        "\n",
        "np.arange(9).reshape(3,3)"
      ],
      "metadata": {
        "id": "tOlEVH7BYceE",
        "outputId": "ca86c71f-1e97-486c-dfa1-109f76cbf5b3",
        "colab": {
          "base_uri": "https://localhost:8080/"
        }
      },
      "execution_count": 7,
      "outputs": [
        {
          "output_type": "execute_result",
          "data": {
            "text/plain": [
              "array([[0, 1, 2],\n",
              "       [3, 4, 5],\n",
              "       [6, 7, 8]])"
            ]
          },
          "metadata": {},
          "execution_count": 7
        }
      ]
    },
    {
      "cell_type": "markdown",
      "source": [
        "## 7. Concatenate a and b \n",
        "## a = np.array([1, 2, 3]), b = np.array([4, 5, 6])"
      ],
      "metadata": {
        "id": "hQ0dnhAQuU_p"
      }
    },
    {
      "cell_type": "code",
      "source": [
        " a = np.array([1, 2, 3])\n",
        "\n",
        " b = np.array([4, 5, 6])\n",
        "\n",
        " np.concatenate((a, b))"
      ],
      "metadata": {
        "id": "rAPSw97aYfE0",
        "outputId": "401cda94-009f-4041-aa05-82a786453714",
        "colab": {
          "base_uri": "https://localhost:8080/"
        }
      },
      "execution_count": 8,
      "outputs": [
        {
          "output_type": "execute_result",
          "data": {
            "text/plain": [
              "array([1, 2, 3, 4, 5, 6])"
            ]
          },
          "metadata": {},
          "execution_count": 8
        }
      ]
    },
    {
      "cell_type": "markdown",
      "source": [
        "# Pandas"
      ],
      "metadata": {
        "id": "dlPEY9DRwZga"
      }
    },
    {
      "cell_type": "markdown",
      "source": [
        "## 8. Create a dataframe with 3 rows and 2 columns"
      ],
      "metadata": {
        "id": "ijoYW51zwr87"
      }
    },
    {
      "cell_type": "code",
      "source": [
        "import pandas as pd\n"
      ],
      "metadata": {
        "id": "T5OxJRZ8uvR7"
      },
      "execution_count": null,
      "outputs": []
    },
    {
      "cell_type": "code",
      "source": [
        "import pandas as pd\n",
        "\n",
        "data = {'Name': ['veera', 'ram' ],\n",
        "        'Age': [20, 21, ],\n",
        "        'gender':['female','male']}\n",
        "  \n",
        "df = pd.DataFrame(data)\n",
        "print(df)"
      ],
      "metadata": {
        "id": "xNpI_XXoYhs0",
        "outputId": "f5942477-75a8-479e-c3b9-586e5f0e2ac7",
        "colab": {
          "base_uri": "https://localhost:8080/"
        }
      },
      "execution_count": 10,
      "outputs": [
        {
          "output_type": "stream",
          "name": "stdout",
          "text": [
            "    Name  Age  gender\n",
            "0  veera   20  female\n",
            "1    ram   21    male\n"
          ]
        }
      ]
    },
    {
      "cell_type": "markdown",
      "source": [
        "## 9. Generate the series of dates from 1st Jan, 2023 to 10th Feb, 2023"
      ],
      "metadata": {
        "id": "UXSmdNclyJQD"
      }
    },
    {
      "cell_type": "code",
      "source": [
        "import pandas as pd\n",
        "a = pd.date_range(start='01-Jan-2023',end='10-Feb-2023')\n",
        "for val in a:\n",
        "  print(val)"
      ],
      "metadata": {
        "id": "dgyC0JhVYl4F",
        "outputId": "0f441f18-c3c6-4f47-ad4b-a2baf8288712",
        "colab": {
          "base_uri": "https://localhost:8080/"
        }
      },
      "execution_count": 11,
      "outputs": [
        {
          "output_type": "stream",
          "name": "stdout",
          "text": [
            "2023-01-01 00:00:00\n",
            "2023-01-02 00:00:00\n",
            "2023-01-03 00:00:00\n",
            "2023-01-04 00:00:00\n",
            "2023-01-05 00:00:00\n",
            "2023-01-06 00:00:00\n",
            "2023-01-07 00:00:00\n",
            "2023-01-08 00:00:00\n",
            "2023-01-09 00:00:00\n",
            "2023-01-10 00:00:00\n",
            "2023-01-11 00:00:00\n",
            "2023-01-12 00:00:00\n",
            "2023-01-13 00:00:00\n",
            "2023-01-14 00:00:00\n",
            "2023-01-15 00:00:00\n",
            "2023-01-16 00:00:00\n",
            "2023-01-17 00:00:00\n",
            "2023-01-18 00:00:00\n",
            "2023-01-19 00:00:00\n",
            "2023-01-20 00:00:00\n",
            "2023-01-21 00:00:00\n",
            "2023-01-22 00:00:00\n",
            "2023-01-23 00:00:00\n",
            "2023-01-24 00:00:00\n",
            "2023-01-25 00:00:00\n",
            "2023-01-26 00:00:00\n",
            "2023-01-27 00:00:00\n",
            "2023-01-28 00:00:00\n",
            "2023-01-29 00:00:00\n",
            "2023-01-30 00:00:00\n",
            "2023-01-31 00:00:00\n",
            "2023-02-01 00:00:00\n",
            "2023-02-02 00:00:00\n",
            "2023-02-03 00:00:00\n",
            "2023-02-04 00:00:00\n",
            "2023-02-05 00:00:00\n",
            "2023-02-06 00:00:00\n",
            "2023-02-07 00:00:00\n",
            "2023-02-08 00:00:00\n",
            "2023-02-09 00:00:00\n",
            "2023-02-10 00:00:00\n"
          ]
        }
      ]
    },
    {
      "cell_type": "markdown",
      "source": [
        "## 10. Create 2D list to DataFrame\n",
        "\n",
        "lists = [[1, 'aaa', 22],\n",
        "         [2, 'bbb', 25],\n",
        "         [3, 'ccc', 24]]"
      ],
      "metadata": {
        "id": "ZizSetD-y5az"
      }
    },
    {
      "cell_type": "code",
      "source": [
        "lists = [[1, 'aaa', 22], [2, 'bbb', 25], [3, 'ccc', 24]]"
      ],
      "metadata": {
        "id": "_XMC8aEt0llB"
      },
      "execution_count": null,
      "outputs": []
    },
    {
      "cell_type": "code",
      "source": [
        "\n",
        "import pandas as pd  \n",
        "      \n",
        "  \n",
        "lists = [[1, 'aaa', 22], [2, 'bbb', 25], [3, 'ccc', 24]]\n",
        "      \n",
        "df = pd.DataFrame(lists, columns =['s.no', 'Name', 'Age'],)\n",
        "                                          \n",
        "print(df)"
      ],
      "metadata": {
        "id": "knH76sDKYsVX",
        "outputId": "acbd4603-b38c-4181-8d5c-bf9942a721f5",
        "colab": {
          "base_uri": "https://localhost:8080/"
        }
      },
      "execution_count": 13,
      "outputs": [
        {
          "output_type": "stream",
          "name": "stdout",
          "text": [
            "   s.no Name  Age\n",
            "0     1  aaa   22\n",
            "1     2  bbb   25\n",
            "2     3  ccc   24\n"
          ]
        }
      ]
    }
  ]
}